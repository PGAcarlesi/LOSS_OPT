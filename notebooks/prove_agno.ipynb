{
 "cells": [
  {
   "cell_type": "code",
   "id": "initial_id",
   "metadata": {
    "collapsed": true,
    "ExecuteTime": {
     "end_time": "2024-12-16T10:45:35.323735Z",
     "start_time": "2024-12-16T10:45:29.636207Z"
    }
   },
   "source": [
    "import tensorflow as tf\n",
    "import numpy as np\n",
    "import matplotlib.pyplot as plt\n",
    "import tensorflow_probability as tfp\n",
    "import gpflow\n"
   ],
   "outputs": [],
   "execution_count": 1
  },
  {
   "metadata": {
    "ExecuteTime": {
     "end_time": "2024-12-16T10:45:36.102108Z",
     "start_time": "2024-12-16T10:45:35.328541Z"
    }
   },
   "cell_type": "code",
   "source": [
    "n_points=1000\n",
    "lengthscale = 1\n",
    "variance = 1\n",
    "\n",
    "variance_out = 2\n",
    "\n",
    "kernel=gpflow.kernels.SquaredExponential(lengthscales=lengthscale, variance=variance)\n",
    "x = np.linspace(0, 20, n_points).reshape(n_points, 1)\n",
    "f = np.random.multivariate_normal(mean=np.zeros(len(x)) ,cov=kernel(x, x)).reshape(n_points, 1)\n",
    "\n",
    "y_obs = f + np.random.normal(scale=.1, size=n_points).reshape(n_points, 1)\n",
    "X=x\n",
    "y=y_obs"
   ],
   "id": "d41844d1df624d2d",
   "outputs": [],
   "execution_count": 2
  },
  {
   "metadata": {
    "ExecuteTime": {
     "end_time": "2024-12-16T10:45:36.630381Z",
     "start_time": "2024-12-16T10:45:36.156615Z"
    }
   },
   "cell_type": "code",
   "source": [
    "plt.plot(x,f)\n",
    "lt.plot(x,y_obs)"
   ],
   "id": "ada9ead5e0a077d2",
   "outputs": [
    {
     "ename": "NameError",
     "evalue": "name 'lt' is not defined",
     "output_type": "error",
     "traceback": [
      "\u001B[0;31m---------------------------------------------------------------------------\u001B[0m",
      "\u001B[0;31mNameError\u001B[0m                                 Traceback (most recent call last)",
      "Cell \u001B[0;32mIn[3], line 2\u001B[0m\n\u001B[1;32m      1\u001B[0m plt\u001B[38;5;241m.\u001B[39mplot(x,f)\n\u001B[0;32m----> 2\u001B[0m \u001B[43mlt\u001B[49m\u001B[38;5;241m.\u001B[39mplot(x,y_obs)\n",
      "\u001B[0;31mNameError\u001B[0m: name 'lt' is not defined"
     ]
    },
    {
     "data": {
      "text/plain": [
       "<Figure size 640x480 with 1 Axes>"
      ],
      "image/png": "[encoded data removed]"
     },
     "metadata": {},
     "output_type": "display_data"
    }
   ],
   "execution_count": 3
  },
  {
   "metadata": {
    "ExecuteTime": {
     "end_time": "2024-12-16T10:45:36.639074Z",
     "start_time": "2024-12-13T03:37:37.639227Z"
    }
   },
   "cell_type": "code",
   "source": [
    "@tf.function\n",
    "def update_mu_f(alpha,Sigma_a_inv,J_w_inv,sigma_2,Y_train,mu_w):\n",
    "    q1 = tf.linalg.inv(alpha * Sigma_a_inv + 1 / sigma_2)\n",
    "    q2 = tf.matmul((2  / sigma_2), (Y_train))\n",
    "    return tf.matmul(q1, q2)\n",
    "\n",
    "\n",
    "\n",
    "def update_Sigma_f(c_f, K, sigma_2, J_w):\n",
    "    \"\"\"\n",
    "    Compute the updated value of Sigma_f.\n",
    "\n",
    "    Parameters:\n",
    "        c_f (float): Scaling constant.\n",
    "        K (Tensor): Kernel matrix.\n",
    "        sigma_2 (float): Noise variance.\n",
    "        J_w (Tensor): Weight matrix.\n",
    "\n",
    "    Returns:\n",
    "        Tensor: The updated value of Sigma_f.\n",
    "    \"\"\"\n",
    "    Sigma_f = c_f * K * tf.linalg.inv(K + sigma_2 * J_w / 2) * sigma_2 * J_w / 2\n",
    "    return Sigma_f\n",
    "\n",
    "def divide_batch(X,y,test_ratio=0.2,seed=None):\n",
    "    if seed is None:\n",
    "        seed=np.random.uniform(0,1000)\n",
    "\n",
    "    tf.random.set_seed(seed)\n",
    "\n",
    "    # Get the number of samples\n",
    "    n = tf.shape(X)[0]\n",
    "    num_test = tf.cast(tf.math.round(test_ratio * tf.cast(n, tf.float32)), tf.int32)\n",
    "    \n",
    "    # Shuffle indices\n",
    "    indices = tf.range(n)\n",
    "    shuffled_indices = tf.random.shuffle(indices)\n",
    "    \n",
    "    # Split indices\n",
    "    test_indices = shuffled_indices[:num_test]\n",
    "    train_indices = shuffled_indices[num_test:]\n",
    "    \n",
    "    # Split data\n",
    "    X_train = tf.gather(X, train_indices)\n",
    "    X_test = tf.gather(X, test_indices)\n",
    "    Y_train = tf.gather(y, train_indices)\n",
    "    Y_test = tf.gather(y, test_indices)\n",
    "    return X_train, Y_train, X_test, Y_test, train_indices, test_indices\n",
    "\n",
    "def maximize_c(y, quant):\n",
    "    return np.quantile(abs(y), 1 - quant)\n",
    "\n",
    "def Full_sample_estimate(variance,lengthscale,X,w_full,c_f,alpha,Y):\n",
    "    kernel=tfp.math.psd_kernels.ExponentiatedQuadratic(variance,lengthscale)\n",
    "    K=kernel.matrix(X,X)\n",
    "    #update quantitites, Sigma_a,J_w\n",
    "    w_full=sigma/(2**0.5)*w_full\n",
    "    J_w=tf.linalg.tensor_diag(tf.squeeze(tf.math.pow(w_full,-2)))*sigma**2/2\n",
    "    J_w_inv=tf.linalg.tensor_diag(tf.squeeze(tf.math.pow(w_full,2)))*2/(sigma**2)\n",
    "    \n",
    "    \n",
    "    \n",
    "    Sigma_f = (c_f * K @ tf.linalg.inv(K + sigma ** 2 /2* J_w) * sigma ** 2 / 2) @ J_w\n",
    "    \n",
    "    Sigma_a = alpha * K + (1 - alpha) * Sigma_f\n",
    "    Sigma_a_inv = tf.linalg.inv(Sigma_a)\n",
    "    \n",
    "    \n",
    "    mu_f=update_mu_f(alpha,Sigma_a_inv,J_w_inv,sigma**2,Y,m_w_full)\n",
    "    return (mu_f,Sigma_f)\n"
   ],
   "id": "f2e603799bdae6b3",
   "outputs": [],
   "execution_count": 20
  },
  {
   "metadata": {
    "ExecuteTime": {
     "end_time": "2024-12-16T10:45:36.639352Z",
     "start_time": "2024-12-13T03:37:38.339994Z"
    }
   },
   "cell_type": "code",
   "source": [
    "sigma=tf.Variable(1.0,dtype=tf.float64,constraint=lambda z: tf.clip_by_value(z, 0.01, 10))\n",
    "c_f=tf.Variable(1.0,dtype=tf.float64,constraint=lambda z: tf.clip_by_value(z, 0.01, 10),trainable=False)\n",
    "variance=tf.Variable(1.0,dtype=tf.float64,constraint=lambda z: tf.clip_by_value(z, 0.01, 10))\n",
    "lengthscale=tf.Variable(1.0,dtype=tf.float64,constraint=lambda z: tf.clip_by_value(z, 0.01, 10))\n",
    "alpha=tf.Variable(0.0001,dtype=tf.float64,constraint=lambda z: tf.clip_by_value(z,-1, 2),trainable=False)\n",
    "\n"
   ],
   "id": "8a4a7986851ad046",
   "outputs": [],
   "execution_count": 21
  },
  {
   "metadata": {
    "ExecuteTime": {
     "end_time": "2024-12-16T10:45:36.639448Z",
     "start_time": "2024-12-13T03:37:38.944541Z"
    }
   },
   "cell_type": "code",
   "source": [
    "for i in range(500):\n",
    "    print(i)\n",
    "    with tf.GradientTape() as tape:\n",
    "    with tf.GradientTape() as tape:\n",
    "         #create batch for the iteration\n",
    "            X_train, Y_train, X_test, Y_test,train_indices, test_indices = divide_batch(X,y,test_ratio=0.2,seed=1)\n",
    "            \n",
    "            #estimate Gpflow kernel.\n",
    "            kernel=tfp.math.psd_kernels.ExponentiatedQuadratic(variance,lengthscale)\n",
    "            K=kernel.matrix(X_train,X_train)\n",
    "        \n",
    "            \n",
    "            new_ind=list(train_indices.numpy())\n",
    "            #update quantitites, Sigma_a,J_w\n",
    "            \n",
    "            Sigma_f = (c_f * K @ tf.linalg.inv(K + sigma ** 2 /2 ) * sigma ** 2 / 2)\n",
    "            \n",
    "            Sigma_a = alpha * K + (1 - alpha) * Sigma_f\n",
    "            Sigma_a_inv = tf.linalg.inv(Sigma_a)\n",
    "            \n",
    "            \n",
    "            mu_f=update_mu_f(alpha,Sigma_a_inv,sigma**2,Y_trai)\n",
    "            K_star=kernel.matrix(X_test,X_train)\n",
    "            K_star_star=kernel.matrix(X_test,X_test)\n",
    "        \n",
    "            \n",
    "            mu_p=K_star@tf.linalg.inv(K)@ mu_f\n",
    "            Sigma_p=(K_star_star-c_f*K_star@ tf.linalg.inv(K + sigma ** 2* J_w)@tf.linalg.matrix_transpose(K_star)+\n",
    "                     (c_f-1)*K_star@ tf.linalg.inv(K )@tf.linalg.matrix_transpose(K_star))\n",
    "            \n",
    "            sigma_p=tf.linalg.diag_part(Sigma_p)\n",
    "            \n",
    "            normal=tfp.distributions.Normal(mu_p, sigma_p+sigma**2)\n",
    "            loss=-tf.reduce_sum(normal.log_prob(Y_test))"
   ],
   "id": "3831f22547de478c",
   "outputs": [
    {
     "ename": "NameError",
     "evalue": "name 'J_w_inv' is not defined",
     "output_type": "error",
     "traceback": [
      "\u001B[0;31m---------------------------------------------------------------------------\u001B[0m",
      "\u001B[0;31mNameError\u001B[0m                                 Traceback (most recent call last)",
      "Cell \u001B[0;32mIn[22], line 19\u001B[0m\n\u001B[1;32m     15\u001B[0m Sigma_a \u001B[38;5;241m=\u001B[39m alpha \u001B[38;5;241m*\u001B[39m K \u001B[38;5;241m+\u001B[39m (\u001B[38;5;241m1\u001B[39m \u001B[38;5;241m-\u001B[39m alpha) \u001B[38;5;241m*\u001B[39m Sigma_f\n\u001B[1;32m     16\u001B[0m Sigma_a_inv \u001B[38;5;241m=\u001B[39m tf\u001B[38;5;241m.\u001B[39mlinalg\u001B[38;5;241m.\u001B[39minv(Sigma_a)\n\u001B[0;32m---> 19\u001B[0m mu_f\u001B[38;5;241m=\u001B[39mupdate_mu_f(alpha,Sigma_a_inv,\u001B[43mJ_w_inv\u001B[49m,sigma\u001B[38;5;241m*\u001B[39m\u001B[38;5;241m*\u001B[39m\u001B[38;5;241m2\u001B[39m,Y_train,m_w)\n\u001B[1;32m     20\u001B[0m K_star\u001B[38;5;241m=\u001B[39mkernel\u001B[38;5;241m.\u001B[39mmatrix(X_test,X_train)\n\u001B[1;32m     21\u001B[0m K_star_star\u001B[38;5;241m=\u001B[39mkernel\u001B[38;5;241m.\u001B[39mmatrix(X_test,X_test)\n",
      "\u001B[0;31mNameError\u001B[0m: name 'J_w_inv' is not defined"
     ]
    }
   ],
   "execution_count": 22
  },
  {
   "metadata": {
    "ExecuteTime": {
     "end_time": "2024-12-13T08:16:24.937138Z",
     "start_time": "2024-12-13T08:16:24.934382Z"
    }
   },
   "cell_type": "code",
   "source": "\n",
   "id": "e70d4e259eb8fedd",
   "outputs": [
    {
     "data": {
      "text/plain": [
       "4.501408450704226"
      ]
     },
     "execution_count": 26,
     "metadata": {},
     "output_type": "execute_result"
    }
   ],
   "execution_count": 26
  },
  {
   "metadata": {
    "ExecuteTime": {
     "end_time": "2024-12-16T04:58:45.450228Z",
     "start_time": "2024-12-16T04:58:45.447623Z"
    }
   },
   "cell_type": "code",
   "source": "",
   "id": "7899026b7e621cee",
   "outputs": [],
   "execution_count": 1
  },
  {
   "metadata": {
    "ExecuteTime": {
     "end_time": "2024-12-16T04:58:53.563569Z",
     "start_time": "2024-12-16T04:58:53.561285Z"
    }
   },
   "cell_type": "code",
   "source": "",
   "id": "3791b57077431667",
   "outputs": [],
   "execution_count": 3
  },
  {
   "metadata": {
    "ExecuteTime": {
     "end_time": "2024-12-16T04:59:01.704328Z",
     "start_time": "2024-12-16T04:59:01.699899Z"
    }
   },
   "cell_type": "code",
   "source": "",
   "id": "d2f07af488cb9d77",
   "outputs": [],
   "execution_count": 4
  },
  {
   "metadata": {
    "ExecuteTime": {
     "end_time": "2024-12-16T04:59:08.752934Z",
     "start_time": "2024-12-16T04:59:08.747783Z"
    }
   },
   "cell_type": "code",
   "source": "",
   "id": "269daad697b14773",
   "outputs": [
    {
     "data": {
      "text/plain": [
       "'dioporco'"
      ]
     },
     "execution_count": 6,
     "metadata": {},
     "output_type": "execute_result"
    }
   ],
   "execution_count": 6
  },
  {
   "metadata": {},
   "cell_type": "code",
   "outputs": [],
   "execution_count": null,
   "source": "",
   "id": "d17e736b13080dec"
  }
 ],
 "metadata": {
  "kernelspec": {
   "display_name": "Python 3",
   "language": "python",
   "name": "python3"
  },
  "language_info": {
   "codemirror_mode": {
    "name": "ipython",
    "version": 2
   },
   "file_extension": ".py",
   "mimetype": "text/x-python",
   "name": "python",
   "nbconvert_exporter": "python",
   "pygments_lexer": "ipython2",
   "version": "2.7.6"
  }
 },
 "nbformat": 4,
 "nbformat_minor": 5
}
